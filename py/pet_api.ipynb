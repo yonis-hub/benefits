{
 "cells": [
  {
   "cell_type": "code",
   "execution_count": 1,
   "metadata": {},
   "outputs": [],
   "source": [
    "#dependency\n",
    "import os \n",
    "import json\n",
    "import petpy\n",
    "import urllib\n",
    "import time\n",
    "import pandas as pd\n",
    "\n",
    "import time\n",
    "import giphy_client\n",
    "from giphy_client.rest import ApiException\n",
    "from pprint import pprint\n",
    "\n",
    "#database \n",
    "from sqlalchemy import create_engine\n",
    "\n",
    "#\n",
    "from config import key, secret, api_key \n",
    "import config\n"
   ]
  },
  {
   "cell_type": "markdown",
   "metadata": {},
   "source": [
    "## Petfinder API"
   ]
  },
  {
   "cell_type": "code",
   "execution_count": 2,
   "metadata": {},
   "outputs": [
    {
     "name": "stdout",
     "output_type": "stream",
     "text": [
      "Data loaded successfully\n"
     ]
    }
   ],
   "source": [
    "#data collection and storing into the database\n",
    "def get_cats():\n",
    "    # initialized\n",
    "    pf = petpy.Petfinder(key=key, secret=secret)\n",
    "    \n",
    "    \n",
    "    # get cat data from api\n",
    "    cat_df = pf.animals(animal_type='cat', status='adoptable', location='Miami, FL', distance=60, \n",
    "                        results_per_page=100, pages=8, return_df=True)\n",
    "    \n",
    "    \n",
    "    # filtered the data few columns \n",
    "    new_cat_df = cat_df[['id','species','age','gender','animal_id','contact.address.city']]\n",
    "\n",
    "    #set index to id\n",
    "    new_cat_df = new_cat_df.set_index('id')\n",
    "    \n",
    "    #rename columns\n",
    "    new_cat_df = new_cat_df.rename(columns={'contact.address.city':'city'})\n",
    "    \n",
    "    \n",
    "    \n",
    "    \n",
    "  #--------Database Connection----------\n",
    "    # Create a SQL Database connection\n",
    "    connection_string = f\"postgres:{config.password}@localhost:5432/pets_db\"\n",
    "    engine = create_engine(f'postgresql://{connection_string}')\n",
    "    \n",
    "    # checking tables\n",
    "    engine.table_names()\n",
    "    \n",
    "    try:\n",
    "        new_cat_df.to_sql(name=\"stage_cat_db\", con=engine, if_exists=\"append\", index=True)\n",
    "        print(\"Data loaded successfully\")\n",
    "    \n",
    "    except:\n",
    "         print(\"Data has already been loaded to db\")\n",
    "\n",
    "    \n",
    "    return \n",
    "get_cats()"
   ]
  },
  {
   "cell_type": "code",
   "execution_count": 3,
   "metadata": {},
   "outputs": [
    {
     "name": "stdout",
     "output_type": "stream",
     "text": [
      "Data loaded successfully\n"
     ]
    }
   ],
   "source": [
    "#data collection and storing into the database\n",
    "def get_dogs():\n",
    "    # initialized\n",
    "    pf = petpy.Petfinder(key=key, secret=secret)\n",
    "    \n",
    "    \n",
    "    # get cat data from api\n",
    "    dog_df = pf.animals(animal_type='dog', status='adoptable', location='Miami, FL', distance=60, \n",
    "                        results_per_page=100, pages=5, return_df=True)\n",
    "    \n",
    "    \n",
    "    # filtered the data few columns \n",
    "    new_dog_df = dog_df[['id','species','age','gender','animal_id','contact.address.city']]\n",
    "\n",
    "    #reset index to id\n",
    "    new_dog_df = new_dog_df.set_index('id')\n",
    "    \n",
    "    #rename columns\n",
    "    new_dog_df = new_dog_df.rename(columns={'contact.address.city':'city'})\n",
    "    \n",
    "    \n",
    "  #--------Database Connection----------\n",
    "    # Create a SQL Database connection\n",
    "    connection_string = f\"postgres:{config.password}@localhost:5432/pets_db\"\n",
    "    engine = create_engine(f'postgresql://{connection_string}')\n",
    "    \n",
    "    # checking tables\n",
    "    engine.table_names()\n",
    "    \n",
    "    try:\n",
    "        new_dog_df.to_sql(name=\"stage_dog_db\", con=engine, if_exists=\"append\", index=True)\n",
    "        print(\"Data loaded successfully\")\n",
    "    \n",
    "    except:\n",
    "        print(\"Data has already been loaded to db\")\n",
    "\n",
    "    \n",
    "    return \n",
    "get_dogs()"
   ]
  },
  {
   "cell_type": "code",
   "execution_count": 4,
   "metadata": {},
   "outputs": [],
   "source": [
    "#data validation stet\n",
    "def data_cleaning():\n",
    "    \n",
    "    # Create a SQL Database connection\n",
    "    connection_string = f\"postgres:{config.password}@localhost:5432/pets_db\"\n",
    "    engine = create_engine(f'postgresql://{connection_string}')\n",
    "    \n",
    "    #check for connection\n",
    "#     engine.table_names()\n",
    "    \n",
    "    # handle the any duplicates from staging db to final dog_db, cat_db \n",
    "    engine.execute(\n",
    "        \"\"\"INSERT INTO dog_db \n",
    "        SELECT DISTINCT * FROM stage_dog_db\n",
    "        ON CONFLICT (id) DO UPDATE SET\n",
    "        species = EXCLUDED.species,\n",
    "        age = EXCLUDED.age,\n",
    "        gender = EXCLUDED.gender,\n",
    "        animal_id = EXCLUDED.animal_id,\n",
    "        city = EXCLUDED.city\"\"\"\n",
    "    )\n",
    "    \n",
    "    engine.execute(\n",
    "        \"\"\"INSERT INTO cat_db \n",
    "        SELECT DISTINCT * FROM stage_cat_db\n",
    "        ON CONFLICT (id) DO UPDATE SET\n",
    "        species = EXCLUDED.species,\n",
    "        age = EXCLUDED.age,\n",
    "        gender = EXCLUDED.gender,\n",
    "        animal_id = EXCLUDED.animal_id,\n",
    "        city = EXCLUDED.city\"\"\"\n",
    "    )\n",
    "\n",
    "    \n",
    "    \n",
    "\n",
    "    return \n",
    "data_cleaning()"
   ]
  },
  {
   "cell_type": "code",
   "execution_count": null,
   "metadata": {},
   "outputs": [],
   "source": []
  },
  {
   "cell_type": "markdown",
   "metadata": {},
   "source": [
    "### Giphy API "
   ]
  },
  {
   "cell_type": "code",
   "execution_count": 5,
   "metadata": {},
   "outputs": [],
   "source": [
    "#dependency\n",
    "import giphy_client\n",
    "from giphy_client.rest import ApiException\n",
    "from pprint import pprint"
   ]
  },
  {
   "cell_type": "code",
   "execution_count": 27,
   "metadata": {
    "scrolled": false
   },
   "outputs": [
    {
     "name": "stdout",
     "output_type": "stream",
     "text": [
      "Data loaded successfully\n"
     ]
    }
   ],
   "source": [
    "def get_giphy():\n",
    "    #params\n",
    "    api_instance = giphy_client.DefaultApi()\n",
    "    api_key = config.api_key \n",
    "    limit = 100\n",
    "    #increase offset by 100 each run \n",
    "    offset = 0 \n",
    "    #empty list\n",
    "    gif_url = []\n",
    "    slug = []\n",
    "    gif_id = []\n",
    "\n",
    "    try: \n",
    "        # trending endpoint\n",
    "        api_response = api_instance.gifs_trending_get(api_key, limit=limit)\n",
    "        #pprint(api_response.data)\n",
    "\n",
    "        api_res = api_response.data\n",
    "\n",
    "        # iterate over the api response \n",
    "        for item in api_res:\n",
    "#             print(item)\n",
    "\n",
    "            \n",
    "            gif_id.append(item.id)\n",
    "            slug.append(item.slug)\n",
    "            gif_url.append(item.bitly_gif_url)\n",
    "            \n",
    "\n",
    "    except ApiException as e:\n",
    "        print(\"Exception when calling DefaultApi->gifs_search_get: %s\\n\" % e)\n",
    "    \n",
    "    \n",
    "    #create df for the list items (slug and gif_url)\n",
    "    giphy_df = pd.DataFrame({'slug':slug,\n",
    "                            'gif_url':gif_url,'gif_id':gif_id})\n",
    "    \n",
    "#     #reset index to gif_url\n",
    "    giphy_df = giphy_df.set_index('gif_id')\n",
    "\n",
    "    \n",
    "    #--------Database Connection----------\n",
    "    # Create a SQL Database connection\n",
    "    connection_string = f\"postgres:{config.password}@localhost:5432/pets_db\"\n",
    "    engine = create_engine(f'postgresql://{connection_string}')\n",
    "        \n",
    "    # checking tables\n",
    "    #engine.table_names()\n",
    "    \n",
    "    try:\n",
    "        giphy_df.to_sql(name=\"stage_giphy_db\", con=engine, if_exists=\"append\", index=True)\n",
    "        print(\"Data loaded successfully\")\n",
    "    \n",
    "    except:\n",
    "        print(\"Data has already been loaded to db\")\n",
    "        \n",
    "    return \n",
    "get_giphy()"
   ]
  },
  {
   "cell_type": "code",
   "execution_count": null,
   "metadata": {},
   "outputs": [],
   "source": []
  },
  {
   "cell_type": "code",
   "execution_count": null,
   "metadata": {},
   "outputs": [],
   "source": []
  },
  {
   "cell_type": "code",
   "execution_count": null,
   "metadata": {},
   "outputs": [],
   "source": []
  },
  {
   "cell_type": "code",
   "execution_count": null,
   "metadata": {},
   "outputs": [],
   "source": []
  },
  {
   "cell_type": "code",
   "execution_count": null,
   "metadata": {},
   "outputs": [],
   "source": []
  },
  {
   "cell_type": "code",
   "execution_count": null,
   "metadata": {},
   "outputs": [],
   "source": []
  },
  {
   "cell_type": "code",
   "execution_count": null,
   "metadata": {},
   "outputs": [],
   "source": []
  },
  {
   "cell_type": "code",
   "execution_count": null,
   "metadata": {},
   "outputs": [],
   "source": [
    "## example \n",
    "\n",
    "#     #check the set against the cat_db id for duplicates \n",
    "#     id_set = set()\n",
    "\n",
    "   \n",
    "\n",
    "#     for item in new_cat_df.iterrows():\n",
    "# #         print(item[1].id)\n",
    "\n",
    "#         if item[1].id not in id_set:\n",
    "#             new_cat_df_x.append(item)\n",
    "\n",
    "#         id_set.add(item[1].id)\n",
    "\n",
    "\n",
    "    \n",
    "#     new_cat_df = pd.DataFrame(new_cat_df_x)\n",
    "  "
   ]
  }
 ],
 "metadata": {
  "kernelspec": {
   "display_name": "Python 3",
   "language": "python",
   "name": "python3"
  },
  "language_info": {
   "codemirror_mode": {
    "name": "ipython",
    "version": 3
   },
   "file_extension": ".py",
   "mimetype": "text/x-python",
   "name": "python",
   "nbconvert_exporter": "python",
   "pygments_lexer": "ipython3",
   "version": "3.6.10"
  },
  "toc": {
   "base_numbering": 1,
   "nav_menu": {},
   "number_sections": true,
   "sideBar": true,
   "skip_h1_title": false,
   "title_cell": "Table of Contents",
   "title_sidebar": "Contents",
   "toc_cell": false,
   "toc_position": {},
   "toc_section_display": true,
   "toc_window_display": false
  }
 },
 "nbformat": 4,
 "nbformat_minor": 4
}
